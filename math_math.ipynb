{
 "cells": [
  {
   "cell_type": "code",
   "execution_count": 4,
   "id": "94663fcd",
   "metadata": {},
   "outputs": [
    {
     "name": "stdout",
     "output_type": "stream",
     "text": [
      "What is the length of your house?: 9\n",
      "What is the width of your house?: 10\n",
      "The area of your house is 90\n"
     ]
    }
   ],
   "source": [
    "def areaFunc():\n",
    "    length = input('What is the length of your house?: ')\n",
    "    length_num = int(length)\n",
    "    width = input('What is the width of your house?: ')\n",
    "    width_num = int(width)\n",
    "    area = length_num * width_num\n",
    "    print(f'The area of your house is {area}')\n",
    "\n",
    "areaFunc()\n"
   ]
  },
  {
   "cell_type": "code",
   "execution_count": 7,
   "id": "8d9ef705",
   "metadata": {},
   "outputs": [
    {
     "name": "stdout",
     "output_type": "stream",
     "text": [
      "What is the radius of your circle5\n",
      "31.41592653589793\n"
     ]
    }
   ],
   "source": [
    "from math import pi\n",
    "def circleFunc():\n",
    "    radius = input(\"What is the radius of your circle\")\n",
    "    radius_num = int(radius)\n",
    "    print(2*pi*radius_num)\n",
    "    \n",
    "circleFunc()"
   ]
  },
  {
   "cell_type": "code",
   "execution_count": null,
   "id": "61771ded",
   "metadata": {},
   "outputs": [],
   "source": []
  }
 ],
 "metadata": {
  "kernelspec": {
   "display_name": "Python 3 (ipykernel)",
   "language": "python",
   "name": "python3"
  },
  "language_info": {
   "codemirror_mode": {
    "name": "ipython",
    "version": 3
   },
   "file_extension": ".py",
   "mimetype": "text/x-python",
   "name": "python",
   "nbconvert_exporter": "python",
   "pygments_lexer": "ipython3",
   "version": "3.9.13"
  }
 },
 "nbformat": 4,
 "nbformat_minor": 5
}
